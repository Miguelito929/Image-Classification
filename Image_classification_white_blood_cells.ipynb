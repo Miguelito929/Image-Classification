{
 "cells": [
  {
   "cell_type": "code",
   "execution_count": 10,
   "id": "2e6f0024-624a-44a4-a40b-e4043d7f9fde",
   "metadata": {
    "execution": {
     "iopub.execute_input": "2023-11-22T02:12:42.785728Z",
     "iopub.status.busy": "2023-11-22T02:12:42.784937Z",
     "iopub.status.idle": "2023-11-22T02:12:45.030443Z",
     "shell.execute_reply": "2023-11-22T02:12:45.030171Z",
     "shell.execute_reply.started": "2023-11-22T02:12:42.785662Z"
    }
   },
   "outputs": [],
   "source": [
    "from sklearn.model_selection import StratifiedKFold\n",
    "from sklearn.preprocessing import StandardScaler\n",
    "from sklearn.pipeline import make_pipeline\n",
    "from sklearn.decomposition import PCA\n",
    "from sklearn.metrics import accuracy_score\n",
    "import numpy as np\n",
    "import pandas as pd"
   ]
  },
  {
   "cell_type": "code",
   "execution_count": 2,
   "id": "0c498be7",
   "metadata": {},
   "outputs": [
    {
     "data": {
      "text/html": [
       "<div>\n",
       "<style scoped>\n",
       "    .dataframe tbody tr th:only-of-type {\n",
       "        vertical-align: middle;\n",
       "    }\n",
       "\n",
       "    .dataframe tbody tr th {\n",
       "        vertical-align: top;\n",
       "    }\n",
       "\n",
       "    .dataframe thead th {\n",
       "        text-align: right;\n",
       "    }\n",
       "</style>\n",
       "<table border=\"1\" class=\"dataframe\">\n",
       "  <thead>\n",
       "    <tr style=\"text-align: right;\">\n",
       "      <th></th>\n",
       "      <th># 1</th>\n",
       "      <th>2</th>\n",
       "      <th>3</th>\n",
       "      <th>4</th>\n",
       "      <th>5</th>\n",
       "      <th>6</th>\n",
       "      <th>7</th>\n",
       "      <th>8</th>\n",
       "      <th>9</th>\n",
       "      <th>10</th>\n",
       "      <th>...</th>\n",
       "      <th>44</th>\n",
       "      <th>45</th>\n",
       "      <th>46</th>\n",
       "      <th>47</th>\n",
       "      <th>48</th>\n",
       "      <th>49</th>\n",
       "      <th>50</th>\n",
       "      <th>51</th>\n",
       "      <th>52</th>\n",
       "      <th>53</th>\n",
       "    </tr>\n",
       "  </thead>\n",
       "  <tbody>\n",
       "    <tr>\n",
       "      <th>0</th>\n",
       "      <td>0.121075</td>\n",
       "      <td>0.912344</td>\n",
       "      <td>1.432111</td>\n",
       "      <td>1.540956</td>\n",
       "      <td>1.252333</td>\n",
       "      <td>0.957594</td>\n",
       "      <td>0.712998</td>\n",
       "      <td>0.798607</td>\n",
       "      <td>1.170393</td>\n",
       "      <td>1.692606</td>\n",
       "      <td>...</td>\n",
       "      <td>2.361702</td>\n",
       "      <td>2.289100</td>\n",
       "      <td>4.362529</td>\n",
       "      <td>1.868435</td>\n",
       "      <td>0.087550</td>\n",
       "      <td>27.734629</td>\n",
       "      <td>0.087037</td>\n",
       "      <td>0.022636</td>\n",
       "      <td>0.810518</td>\n",
       "      <td>6.0</td>\n",
       "    </tr>\n",
       "    <tr>\n",
       "      <th>1</th>\n",
       "      <td>0.298066</td>\n",
       "      <td>0.830151</td>\n",
       "      <td>0.960709</td>\n",
       "      <td>1.000123</td>\n",
       "      <td>0.965636</td>\n",
       "      <td>0.819066</td>\n",
       "      <td>0.849858</td>\n",
       "      <td>0.950855</td>\n",
       "      <td>1.154082</td>\n",
       "      <td>1.129449</td>\n",
       "      <td>...</td>\n",
       "      <td>3.327597</td>\n",
       "      <td>7.472283</td>\n",
       "      <td>2.543191</td>\n",
       "      <td>0.130734</td>\n",
       "      <td>0.012256</td>\n",
       "      <td>27.539444</td>\n",
       "      <td>0.127253</td>\n",
       "      <td>0.036147</td>\n",
       "      <td>0.773069</td>\n",
       "      <td>6.0</td>\n",
       "    </tr>\n",
       "    <tr>\n",
       "      <th>2</th>\n",
       "      <td>0.196923</td>\n",
       "      <td>1.666643</td>\n",
       "      <td>2.084505</td>\n",
       "      <td>1.855161</td>\n",
       "      <td>1.603003</td>\n",
       "      <td>1.678651</td>\n",
       "      <td>1.546568</td>\n",
       "      <td>0.940188</td>\n",
       "      <td>0.393847</td>\n",
       "      <td>0.157298</td>\n",
       "      <td>...</td>\n",
       "      <td>1.822071</td>\n",
       "      <td>5.098671</td>\n",
       "      <td>3.221859</td>\n",
       "      <td>0.107526</td>\n",
       "      <td>0.011730</td>\n",
       "      <td>24.930386</td>\n",
       "      <td>0.154367</td>\n",
       "      <td>0.054824</td>\n",
       "      <td>0.852725</td>\n",
       "      <td>6.0</td>\n",
       "    </tr>\n",
       "    <tr>\n",
       "      <th>3</th>\n",
       "      <td>0.118606</td>\n",
       "      <td>0.361996</td>\n",
       "      <td>1.050160</td>\n",
       "      <td>1.639484</td>\n",
       "      <td>1.858165</td>\n",
       "      <td>1.370149</td>\n",
       "      <td>1.020508</td>\n",
       "      <td>0.775883</td>\n",
       "      <td>0.717815</td>\n",
       "      <td>0.668396</td>\n",
       "      <td>...</td>\n",
       "      <td>1.717295</td>\n",
       "      <td>3.920698</td>\n",
       "      <td>7.626998</td>\n",
       "      <td>0.348129</td>\n",
       "      <td>0.025473</td>\n",
       "      <td>23.268801</td>\n",
       "      <td>0.188430</td>\n",
       "      <td>0.078499</td>\n",
       "      <td>0.830111</td>\n",
       "      <td>6.0</td>\n",
       "    </tr>\n",
       "    <tr>\n",
       "      <th>4</th>\n",
       "      <td>0.009170</td>\n",
       "      <td>1.609278</td>\n",
       "      <td>3.320568</td>\n",
       "      <td>2.427671</td>\n",
       "      <td>1.508411</td>\n",
       "      <td>0.986886</td>\n",
       "      <td>0.571958</td>\n",
       "      <td>0.291137</td>\n",
       "      <td>0.153592</td>\n",
       "      <td>0.115767</td>\n",
       "      <td>...</td>\n",
       "      <td>0.963990</td>\n",
       "      <td>2.088302</td>\n",
       "      <td>4.885723</td>\n",
       "      <td>4.324594</td>\n",
       "      <td>0.201431</td>\n",
       "      <td>25.532965</td>\n",
       "      <td>0.141487</td>\n",
       "      <td>0.041315</td>\n",
       "      <td>0.847301</td>\n",
       "      <td>6.0</td>\n",
       "    </tr>\n",
       "  </tbody>\n",
       "</table>\n",
       "<p>5 rows × 53 columns</p>\n",
       "</div>"
      ],
      "text/plain": [
       "        # 1         2         3         4         5         6         7  \\\n",
       "0  0.121075  0.912344  1.432111  1.540956  1.252333  0.957594  0.712998   \n",
       "1  0.298066  0.830151  0.960709  1.000123  0.965636  0.819066  0.849858   \n",
       "2  0.196923  1.666643  2.084505  1.855161  1.603003  1.678651  1.546568   \n",
       "3  0.118606  0.361996  1.050160  1.639484  1.858165  1.370149  1.020508   \n",
       "4  0.009170  1.609278  3.320568  2.427671  1.508411  0.986886  0.571958   \n",
       "\n",
       "          8         9        10  ...        44        45        46        47  \\\n",
       "0  0.798607  1.170393  1.692606  ...  2.361702  2.289100  4.362529  1.868435   \n",
       "1  0.950855  1.154082  1.129449  ...  3.327597  7.472283  2.543191  0.130734   \n",
       "2  0.940188  0.393847  0.157298  ...  1.822071  5.098671  3.221859  0.107526   \n",
       "3  0.775883  0.717815  0.668396  ...  1.717295  3.920698  7.626998  0.348129   \n",
       "4  0.291137  0.153592  0.115767  ...  0.963990  2.088302  4.885723  4.324594   \n",
       "\n",
       "         48         49        50        51        52   53  \n",
       "0  0.087550  27.734629  0.087037  0.022636  0.810518  6.0  \n",
       "1  0.012256  27.539444  0.127253  0.036147  0.773069  6.0  \n",
       "2  0.011730  24.930386  0.154367  0.054824  0.852725  6.0  \n",
       "3  0.025473  23.268801  0.188430  0.078499  0.830111  6.0  \n",
       "4  0.201431  25.532965  0.141487  0.041315  0.847301  6.0  \n",
       "\n",
       "[5 rows x 53 columns]"
      ]
     },
     "execution_count": 2,
     "metadata": {},
     "output_type": "execute_result"
    }
   ],
   "source": [
    "df = pd.read_csv('blood_data.csv')\n",
    "df.head()"
   ]
  },
  {
   "cell_type": "markdown",
   "id": "388455b7-1d5c-4e52-a964-9cc57dc24a30",
   "metadata": {},
   "source": [
    "## Classical Models"
   ]
  },
  {
   "cell_type": "markdown",
   "id": "9b6173b3-0e41-44b8-8c46-ee18159a7d83",
   "metadata": {},
   "source": [
    "### Linear SVM"
   ]
  },
  {
   "cell_type": "code",
   "execution_count": 3,
   "id": "06566587-0c02-431c-9e2b-012e8027d993",
   "metadata": {
    "execution": {
     "iopub.execute_input": "2023-11-22T02:12:47.933560Z",
     "iopub.status.busy": "2023-11-22T02:12:47.931135Z",
     "iopub.status.idle": "2023-11-22T02:12:48.276413Z",
     "shell.execute_reply": "2023-11-22T02:12:48.276059Z",
     "shell.execute_reply.started": "2023-11-22T02:12:47.933498Z"
    }
   },
   "outputs": [],
   "source": [
    "from sklearn.svm import SVC\n",
    "from sklearn.metrics import classification_report"
   ]
  },
  {
   "cell_type": "code",
   "execution_count": 12,
   "id": "88496707",
   "metadata": {},
   "outputs": [],
   "source": [
    "# Evaluate model using cross-validation\n",
    "kf = StratifiedKFold(n_splits=5, shuffle=True) # 5 folds\n",
    "X = df.iloc[:,:-1]\n",
    "y = df.iloc[:,-1]\n",
    "precision, recall, f1 = 0, 0, 0\n",
    "cv_y_test = []\n",
    "cv_y_pred = []\n",
    "\n",
    "for train_index, test_index in kf.split(X, y):\n",
    "    x_train = X.iloc[train_index, :]\n",
    "    y_train = y[train_index]\n",
    "    x_test = X.iloc[test_index, :]\n",
    "    y_test = y[test_index]\n",
    "    \n",
    "    clf = make_pipeline(StandardScaler(), SVC(kernel='linear'))\n",
    "    clf.fit(x_train, y_train)\n",
    "    \n",
    "    y_pred = clf.predict(x_test)\n",
    "    cv_y_test.append(y_test)\n",
    "    cv_y_pred.append(y_pred)\n",
    "    report = classification_report(y_test, y_pred, output_dict=True)\n",
    "    precision += report['macro avg']['precision']\n",
    "    recall += report['macro avg']['recall']\n",
    "    f1 += report['macro avg']['f1-score'] "
   ]
  },
  {
   "cell_type": "code",
   "execution_count": 13,
   "id": "6247a091",
   "metadata": {},
   "outputs": [
    {
     "name": "stdout",
     "output_type": "stream",
     "text": [
      "Accuracy: 0.9584489221529925\n"
     ]
    }
   ],
   "source": [
    "accuracy = (precision + recall + f1)/15\n",
    "print(f'Accuracy: {accuracy}')"
   ]
  },
  {
   "cell_type": "code",
   "execution_count": 14,
   "id": "287fa0d4",
   "metadata": {},
   "outputs": [
    {
     "data": {
      "text/plain": [
       "0.9584993359893759"
      ]
     },
     "execution_count": 14,
     "metadata": {},
     "output_type": "execute_result"
    }
   ],
   "source": [
    "accuracy_score(np.concatenate(cv_y_test), np.concatenate(cv_y_pred))"
   ]
  },
  {
   "cell_type": "code",
   "execution_count": 15,
   "id": "2022bf3e",
   "metadata": {},
   "outputs": [
    {
     "name": "stdout",
     "output_type": "stream",
     "text": [
      "              precision    recall  f1-score   support\n",
      "\n",
      "         1.0       0.98      0.98      0.98       512\n",
      "         2.0       0.95      0.98      0.97       500\n",
      "         3.0       0.99      0.99      0.99       500\n",
      "         4.0       0.95      0.93      0.94       500\n",
      "         5.0       0.94      0.95      0.95       500\n",
      "         6.0       0.94      0.92      0.93       500\n",
      "\n",
      "    accuracy                           0.96      3012\n",
      "   macro avg       0.96      0.96      0.96      3012\n",
      "weighted avg       0.96      0.96      0.96      3012\n",
      "\n"
     ]
    }
   ],
   "source": [
    "print(classification_report(np.concatenate(cv_y_test), np.concatenate(cv_y_pred)))"
   ]
  },
  {
   "cell_type": "code",
   "execution_count": null,
   "id": "4516cb19",
   "metadata": {},
   "outputs": [],
   "source": []
  },
  {
   "cell_type": "markdown",
   "id": "e4bc7f28-b7d6-4d6c-815e-410656b39cbc",
   "metadata": {},
   "source": [
    "### Radial SVM"
   ]
  },
  {
   "cell_type": "code",
   "execution_count": 16,
   "id": "86bbcbaf",
   "metadata": {},
   "outputs": [],
   "source": [
    "# Evaluate model using cross-validation\n",
    "kf = StratifiedKFold(n_splits=5, shuffle=True) # 5 folds\n",
    "X = df.iloc[:,:-1]\n",
    "y = df.iloc[:,-1]\n",
    "precision, recall, f1 = 0, 0, 0\n",
    "cv_y_test = []\n",
    "cv_y_pred = []\n",
    "\n",
    "for train_index, test_index in kf.split(X, y):\n",
    "    x_train = X.iloc[train_index, :]\n",
    "    y_train = y[train_index]\n",
    "    x_test = X.iloc[test_index, :]\n",
    "    y_test = y[test_index]\n",
    "    \n",
    "    clf = make_pipeline(StandardScaler(), SVC(kernel=\"rbf\"))\n",
    "    clf.fit(x_train, y_train)\n",
    "    \n",
    "    y_pred = clf.predict(x_test)\n",
    "    cv_y_test.append(y_test)\n",
    "    cv_y_pred.append(y_pred)\n",
    "    report = classification_report(y_test, y_pred, output_dict=True)\n",
    "    precision += report['macro avg']['precision']\n",
    "    recall += report['macro avg']['recall']\n",
    "    f1 += report['macro avg']['f1-score'] "
   ]
  },
  {
   "cell_type": "code",
   "execution_count": 17,
   "id": "3c72b89c",
   "metadata": {},
   "outputs": [
    {
     "name": "stdout",
     "output_type": "stream",
     "text": [
      "Accuracy: 0.968591944795079\n"
     ]
    }
   ],
   "source": [
    "accuracy = (precision + recall + f1)/15\n",
    "print(f'Accuracy: {accuracy}')"
   ]
  },
  {
   "cell_type": "code",
   "execution_count": 18,
   "id": "5aced461",
   "metadata": {},
   "outputs": [
    {
     "data": {
      "text/plain": [
       "0.9684594953519257"
      ]
     },
     "execution_count": 18,
     "metadata": {},
     "output_type": "execute_result"
    }
   ],
   "source": [
    "accuracy_score(np.concatenate(cv_y_test), np.concatenate(cv_y_pred))"
   ]
  },
  {
   "cell_type": "code",
   "execution_count": 19,
   "id": "13f5fc20",
   "metadata": {},
   "outputs": [
    {
     "name": "stdout",
     "output_type": "stream",
     "text": [
      "              precision    recall  f1-score   support\n",
      "\n",
      "         1.0       0.97      0.98      0.98       512\n",
      "         2.0       0.98      0.98      0.98       500\n",
      "         3.0       1.00      0.99      0.99       500\n",
      "         4.0       0.98      0.94      0.96       500\n",
      "         5.0       0.94      0.96      0.95       500\n",
      "         6.0       0.94      0.96      0.95       500\n",
      "\n",
      "    accuracy                           0.97      3012\n",
      "   macro avg       0.97      0.97      0.97      3012\n",
      "weighted avg       0.97      0.97      0.97      3012\n",
      "\n"
     ]
    }
   ],
   "source": [
    "print(classification_report(np.concatenate(cv_y_test), np.concatenate(cv_y_pred)))"
   ]
  },
  {
   "cell_type": "markdown",
   "id": "8c87e8ec-cbcc-4070-9ae2-84e703fe4874",
   "metadata": {},
   "source": [
    "## Multilayer Perceptron"
   ]
  },
  {
   "cell_type": "code",
   "execution_count": 20,
   "id": "8aa1064d-275f-4b29-85c4-7905b2fb95f9",
   "metadata": {
    "execution": {
     "iopub.execute_input": "2023-11-22T02:56:19.883963Z",
     "iopub.status.busy": "2023-11-22T02:56:19.883435Z",
     "iopub.status.idle": "2023-11-22T02:56:19.901732Z",
     "shell.execute_reply": "2023-11-22T02:56:19.901182Z",
     "shell.execute_reply.started": "2023-11-22T02:56:19.883929Z"
    }
   },
   "outputs": [],
   "source": [
    "from sklearn.neural_network import MLPClassifier\n",
    "from sklearn.model_selection import GridSearchCV"
   ]
  },
  {
   "cell_type": "code",
   "execution_count": 21,
   "id": "ded210ab-0ace-4209-acc3-38cf0b2021c9",
   "metadata": {
    "execution": {
     "iopub.execute_input": "2023-11-22T02:56:24.076088Z",
     "iopub.status.busy": "2023-11-22T02:56:24.075432Z",
     "iopub.status.idle": "2023-11-22T02:56:24.087146Z",
     "shell.execute_reply": "2023-11-22T02:56:24.085683Z",
     "shell.execute_reply.started": "2023-11-22T02:56:24.076051Z"
    }
   },
   "outputs": [],
   "source": [
    "parameter_space = {\n",
    "    'hidden_layer_sizes': [\n",
    "        (100,), (150,), (200,),  # Single layer\n",
    "        (100, 100), (150, 150), (200, 200),  # Two layers\n",
    "    ]\n",
    "}"
   ]
  },
  {
   "cell_type": "code",
   "execution_count": 22,
   "id": "b55ac498-955a-4f2f-98c4-448b14bb10ae",
   "metadata": {
    "execution": {
     "iopub.execute_input": "2023-11-22T02:56:51.359138Z",
     "iopub.status.busy": "2023-11-22T02:56:51.357946Z",
     "iopub.status.idle": "2023-11-22T02:56:51.369277Z",
     "shell.execute_reply": "2023-11-22T02:56:51.365506Z",
     "shell.execute_reply.started": "2023-11-22T02:56:51.359092Z"
    }
   },
   "outputs": [],
   "source": [
    "# model = make_pipeline(\n",
    "#     StandardScaler(), \n",
    "#     MLPClassifier()\n",
    "# )\n",
    "\n",
    "# mlp_gs = GridSearchCV(\n",
    "#     model,\n",
    "#     parameter_space,\n",
    "#     cv=5, # cross validation\n",
    "#     n_jobs=-1\n",
    "# )\n",
    "\n",
    "model = make_pipeline(StandardScaler(), \n",
    "    GridSearchCV(\n",
    "        MLPClassifier(),\n",
    "        param_grid=parameter_space,\n",
    "        cv=5,\n",
    "        n_jobs=-1,\n",
    "        scoring='accuracy',\n",
    "        error_score=\"raise\"\n",
    "    )\n",
    ")"
   ]
  },
  {
   "cell_type": "code",
   "execution_count": 23,
   "id": "f89353a6-0fab-4338-ba89-d24980ceb4ff",
   "metadata": {
    "execution": {
     "iopub.execute_input": "2023-11-22T02:56:51.862194Z",
     "iopub.status.busy": "2023-11-22T02:56:51.861538Z",
     "iopub.status.idle": "2023-11-22T03:09:39.800946Z",
     "shell.execute_reply": "2023-11-22T03:09:39.798717Z",
     "shell.execute_reply.started": "2023-11-22T02:56:51.862175Z"
    },
    "scrolled": true
   },
   "outputs": [
    {
     "name": "stderr",
     "output_type": "stream",
     "text": [
      "C:\\Users\\cumpl\\miniconda3\\envs\\clustering_task\\lib\\site-packages\\sklearn\\neural_network\\_multilayer_perceptron.py:692: ConvergenceWarning: Stochastic Optimizer: Maximum iterations (200) reached and the optimization hasn't converged yet.\n",
      "  warnings.warn(\n"
     ]
    },
    {
     "data": {
      "text/plain": [
       "Pipeline(steps=[('standardscaler', StandardScaler()),\n",
       "                ('gridsearchcv',\n",
       "                 GridSearchCV(cv=5, error_score='raise',\n",
       "                              estimator=MLPClassifier(), n_jobs=-1,\n",
       "                              param_grid={'hidden_layer_sizes': [(100,), (150,),\n",
       "                                                                 (200,),\n",
       "                                                                 (100, 100),\n",
       "                                                                 (150, 150),\n",
       "                                                                 (200, 200)]},\n",
       "                              scoring='accuracy'))])"
      ]
     },
     "execution_count": 23,
     "metadata": {},
     "output_type": "execute_result"
    }
   ],
   "source": [
    "model.fit(X, y)"
   ]
  },
  {
   "cell_type": "code",
   "execution_count": 24,
   "id": "80913c30",
   "metadata": {},
   "outputs": [
    {
     "data": {
      "text/plain": [
       "{'mean_fit_time': array([ 6.99189134, 10.33562341, 11.65983524, 10.7730361 , 17.01300802,\n",
       "        15.87358489]),\n",
       " 'std_fit_time': array([0.1601561 , 1.92037031, 1.61904275, 1.92443524, 1.69453558,\n",
       "        0.80502674]),\n",
       " 'mean_score_time': array([0.00892572, 0.00745711, 0.00705447, 0.00752578, 0.01272726,\n",
       "        0.        ]),\n",
       " 'std_score_time': array([0.00399482, 0.00497319, 0.00075304, 0.00610817, 0.00637961,\n",
       "        0.        ]),\n",
       " 'param_hidden_layer_sizes': masked_array(data=[(100,), (150,), (200,), (100, 100), (150, 150),\n",
       "                    (200, 200)],\n",
       "              mask=[False, False, False, False, False, False],\n",
       "        fill_value='?',\n",
       "             dtype=object),\n",
       " 'params': [{'hidden_layer_sizes': (100,)},\n",
       "  {'hidden_layer_sizes': (150,)},\n",
       "  {'hidden_layer_sizes': (200,)},\n",
       "  {'hidden_layer_sizes': (100, 100)},\n",
       "  {'hidden_layer_sizes': (150, 150)},\n",
       "  {'hidden_layer_sizes': (200, 200)}],\n",
       " 'split0_test_score': array([0.98175788, 0.97844113, 0.97844113, 0.97512438, 0.98175788,\n",
       "        0.973466  ]),\n",
       " 'split1_test_score': array([0.97014925, 0.97678275, 0.97180763, 0.96517413, 0.96517413,\n",
       "        0.97180763]),\n",
       " 'split2_test_score': array([0.96677741, 0.96345515, 0.96677741, 0.96843854, 0.96511628,\n",
       "        0.96843854]),\n",
       " 'split3_test_score': array([0.96843854, 0.96511628, 0.96179402, 0.96345515, 0.96345515,\n",
       "        0.96843854]),\n",
       " 'split4_test_score': array([0.96677741, 0.96345515, 0.96843854, 0.96511628, 0.96677741,\n",
       "        0.95847176]),\n",
       " 'mean_test_score': array([0.9707801 , 0.96945009, 0.96945174, 0.96746169, 0.96845617,\n",
       "        0.96812449]),\n",
       " 'std_test_score': array([0.00562913, 0.00671219, 0.00553495, 0.0041583 , 0.00673336,\n",
       "        0.00520518]),\n",
       " 'rank_test_score': array([1, 3, 2, 6, 4, 5])}"
      ]
     },
     "execution_count": 24,
     "metadata": {},
     "output_type": "execute_result"
    }
   ],
   "source": [
    "model.named_steps['gridsearchcv'].cv_results_"
   ]
  },
  {
   "cell_type": "code",
   "execution_count": 25,
   "id": "79fcad08",
   "metadata": {},
   "outputs": [
    {
     "data": {
      "text/plain": [
       "{'hidden_layer_sizes': (100,)}"
      ]
     },
     "execution_count": 25,
     "metadata": {},
     "output_type": "execute_result"
    }
   ],
   "source": [
    "model.named_steps['gridsearchcv'].best_params_"
   ]
  },
  {
   "cell_type": "code",
   "execution_count": 26,
   "id": "edcf665a",
   "metadata": {},
   "outputs": [
    {
     "data": {
      "text/plain": [
       "0.9707800972986671"
      ]
     },
     "execution_count": 26,
     "metadata": {},
     "output_type": "execute_result"
    }
   ],
   "source": [
    "model.named_steps['gridsearchcv'].best_score_"
   ]
  },
  {
   "cell_type": "code",
   "execution_count": null,
   "id": "cace81ff",
   "metadata": {},
   "outputs": [],
   "source": []
  }
 ],
 "metadata": {
  "kernelspec": {
   "display_name": "Python 3 (ipykernel)",
   "language": "python",
   "name": "python3"
  },
  "language_info": {
   "codemirror_mode": {
    "name": "ipython",
    "version": 3
   },
   "file_extension": ".py",
   "mimetype": "text/x-python",
   "name": "python",
   "nbconvert_exporter": "python",
   "pygments_lexer": "ipython3",
   "version": "3.10.9"
  }
 },
 "nbformat": 4,
 "nbformat_minor": 5
}
