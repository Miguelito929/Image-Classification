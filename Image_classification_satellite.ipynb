{
 "cells": [
  {
   "cell_type": "code",
   "execution_count": 17,
   "id": "2e6f0024-624a-44a4-a40b-e4043d7f9fde",
   "metadata": {
    "execution": {
     "iopub.execute_input": "2023-11-22T02:12:42.785728Z",
     "iopub.status.busy": "2023-11-22T02:12:42.784937Z",
     "iopub.status.idle": "2023-11-22T02:12:45.030443Z",
     "shell.execute_reply": "2023-11-22T02:12:45.030171Z",
     "shell.execute_reply.started": "2023-11-22T02:12:42.785662Z"
    }
   },
   "outputs": [
    {
     "name": "stderr",
     "output_type": "stream",
     "text": [
      "Intel(R) Extension for Scikit-learn* enabled (https://github.com/intel/scikit-learn-intelex)\n"
     ]
    }
   ],
   "source": [
    "import numpy as np\n",
    "import pandas as pd\n",
    "from sklearnex import patch_sklearn, unpatch_sklearn\n",
    "patch_sklearn(\"SVC\")\n",
    "from sklearn.svm import SVC\n",
    "from sklearn.model_selection import StratifiedKFold\n",
    "from sklearn.preprocessing import StandardScaler\n",
    "from sklearn.pipeline import make_pipeline\n",
    "from sklearn.decomposition import PCA\n"
   ]
  },
  {
   "cell_type": "code",
   "execution_count": 2,
   "id": "5347b7a6",
   "metadata": {},
   "outputs": [],
   "source": [
    "#unpatch_sklearn()"
   ]
  },
  {
   "cell_type": "code",
   "execution_count": 2,
   "id": "0c498be7",
   "metadata": {},
   "outputs": [
    {
     "data": {
      "text/html": [
       "<div>\n",
       "<style scoped>\n",
       "    .dataframe tbody tr th:only-of-type {\n",
       "        vertical-align: middle;\n",
       "    }\n",
       "\n",
       "    .dataframe tbody tr th {\n",
       "        vertical-align: top;\n",
       "    }\n",
       "\n",
       "    .dataframe thead th {\n",
       "        text-align: right;\n",
       "    }\n",
       "</style>\n",
       "<table border=\"1\" class=\"dataframe\">\n",
       "  <thead>\n",
       "    <tr style=\"text-align: right;\">\n",
       "      <th></th>\n",
       "      <th># 1</th>\n",
       "      <th>2</th>\n",
       "      <th>3</th>\n",
       "      <th>4</th>\n",
       "      <th>5</th>\n",
       "      <th>6</th>\n",
       "      <th>7</th>\n",
       "      <th>8</th>\n",
       "      <th>9</th>\n",
       "      <th>10</th>\n",
       "      <th>...</th>\n",
       "      <th>44</th>\n",
       "      <th>45</th>\n",
       "      <th>46</th>\n",
       "      <th>47</th>\n",
       "      <th>48</th>\n",
       "      <th>49</th>\n",
       "      <th>50</th>\n",
       "      <th>51</th>\n",
       "      <th>52</th>\n",
       "      <th>53</th>\n",
       "    </tr>\n",
       "  </thead>\n",
       "  <tbody>\n",
       "    <tr>\n",
       "      <th>0</th>\n",
       "      <td>0.186809</td>\n",
       "      <td>2.134734</td>\n",
       "      <td>5.312087</td>\n",
       "      <td>5.636209</td>\n",
       "      <td>4.847459</td>\n",
       "      <td>3.531812</td>\n",
       "      <td>2.134734</td>\n",
       "      <td>1.124049</td>\n",
       "      <td>0.562024</td>\n",
       "      <td>0.292189</td>\n",
       "      <td>...</td>\n",
       "      <td>0.086874</td>\n",
       "      <td>0.043437</td>\n",
       "      <td>0.021719</td>\n",
       "      <td>0.001974</td>\n",
       "      <td>0.011846</td>\n",
       "      <td>12.564405</td>\n",
       "      <td>0.080385</td>\n",
       "      <td>0.024177</td>\n",
       "      <td>0.400888</td>\n",
       "      <td>2.0</td>\n",
       "    </tr>\n",
       "    <tr>\n",
       "      <th>1</th>\n",
       "      <td>0.156780</td>\n",
       "      <td>1.264830</td>\n",
       "      <td>3.624999</td>\n",
       "      <td>6.756354</td>\n",
       "      <td>8.881353</td>\n",
       "      <td>7.036015</td>\n",
       "      <td>3.463982</td>\n",
       "      <td>1.769067</td>\n",
       "      <td>0.737288</td>\n",
       "      <td>0.377119</td>\n",
       "      <td>...</td>\n",
       "      <td>0.006410</td>\n",
       "      <td>0.006410</td>\n",
       "      <td>0.002137</td>\n",
       "      <td>0.008547</td>\n",
       "      <td>0.004273</td>\n",
       "      <td>10.983295</td>\n",
       "      <td>0.088937</td>\n",
       "      <td>0.024603</td>\n",
       "      <td>0.451096</td>\n",
       "      <td>2.0</td>\n",
       "    </tr>\n",
       "    <tr>\n",
       "      <th>2</th>\n",
       "      <td>1.318666</td>\n",
       "      <td>4.578010</td>\n",
       "      <td>3.758613</td>\n",
       "      <td>5.176801</td>\n",
       "      <td>4.242953</td>\n",
       "      <td>2.778321</td>\n",
       "      <td>1.894235</td>\n",
       "      <td>1.061568</td>\n",
       "      <td>0.771295</td>\n",
       "      <td>0.694995</td>\n",
       "      <td>...</td>\n",
       "      <td>0.014096</td>\n",
       "      <td>0.007048</td>\n",
       "      <td>0.002349</td>\n",
       "      <td>0.004699</td>\n",
       "      <td>0.004699</td>\n",
       "      <td>10.526232</td>\n",
       "      <td>0.112281</td>\n",
       "      <td>0.026046</td>\n",
       "      <td>0.568862</td>\n",
       "      <td>2.0</td>\n",
       "    </tr>\n",
       "    <tr>\n",
       "      <th>3</th>\n",
       "      <td>0.233516</td>\n",
       "      <td>3.577804</td>\n",
       "      <td>9.472423</td>\n",
       "      <td>5.269129</td>\n",
       "      <td>2.416894</td>\n",
       "      <td>1.622939</td>\n",
       "      <td>1.274332</td>\n",
       "      <td>1.060831</td>\n",
       "      <td>0.785616</td>\n",
       "      <td>0.637166</td>\n",
       "      <td>...</td>\n",
       "      <td>0.072552</td>\n",
       "      <td>0.031094</td>\n",
       "      <td>0.004146</td>\n",
       "      <td>0.002073</td>\n",
       "      <td>0.004146</td>\n",
       "      <td>18.478659</td>\n",
       "      <td>0.065183</td>\n",
       "      <td>0.021700</td>\n",
       "      <td>0.210233</td>\n",
       "      <td>2.0</td>\n",
       "    </tr>\n",
       "    <tr>\n",
       "      <th>4</th>\n",
       "      <td>2.265238</td>\n",
       "      <td>12.861479</td>\n",
       "      <td>8.418392</td>\n",
       "      <td>3.363587</td>\n",
       "      <td>0.555172</td>\n",
       "      <td>0.188484</td>\n",
       "      <td>0.119945</td>\n",
       "      <td>0.121658</td>\n",
       "      <td>0.095956</td>\n",
       "      <td>0.046264</td>\n",
       "      <td>...</td>\n",
       "      <td>0.011572</td>\n",
       "      <td>0.006943</td>\n",
       "      <td>0.006943</td>\n",
       "      <td>0.002314</td>\n",
       "      <td>0.002314</td>\n",
       "      <td>6.770452</td>\n",
       "      <td>0.148247</td>\n",
       "      <td>0.041204</td>\n",
       "      <td>0.582118</td>\n",
       "      <td>2.0</td>\n",
       "    </tr>\n",
       "  </tbody>\n",
       "</table>\n",
       "<p>5 rows × 53 columns</p>\n",
       "</div>"
      ],
      "text/plain": [
       "        # 1          2         3         4         5         6         7  \\\n",
       "0  0.186809   2.134734  5.312087  5.636209  4.847459  3.531812  2.134734   \n",
       "1  0.156780   1.264830  3.624999  6.756354  8.881353  7.036015  3.463982   \n",
       "2  1.318666   4.578010  3.758613  5.176801  4.242953  2.778321  1.894235   \n",
       "3  0.233516   3.577804  9.472423  5.269129  2.416894  1.622939  1.274332   \n",
       "4  2.265238  12.861479  8.418392  3.363587  0.555172  0.188484  0.119945   \n",
       "\n",
       "          8         9        10  ...        44        45        46        47  \\\n",
       "0  1.124049  0.562024  0.292189  ...  0.086874  0.043437  0.021719  0.001974   \n",
       "1  1.769067  0.737288  0.377119  ...  0.006410  0.006410  0.002137  0.008547   \n",
       "2  1.061568  0.771295  0.694995  ...  0.014096  0.007048  0.002349  0.004699   \n",
       "3  1.060831  0.785616  0.637166  ...  0.072552  0.031094  0.004146  0.002073   \n",
       "4  0.121658  0.095956  0.046264  ...  0.011572  0.006943  0.006943  0.002314   \n",
       "\n",
       "         48         49        50        51        52   53  \n",
       "0  0.011846  12.564405  0.080385  0.024177  0.400888  2.0  \n",
       "1  0.004273  10.983295  0.088937  0.024603  0.451096  2.0  \n",
       "2  0.004699  10.526232  0.112281  0.026046  0.568862  2.0  \n",
       "3  0.004146  18.478659  0.065183  0.021700  0.210233  2.0  \n",
       "4  0.002314   6.770452  0.148247  0.041204  0.582118  2.0  \n",
       "\n",
       "[5 rows x 53 columns]"
      ]
     },
     "execution_count": 2,
     "metadata": {},
     "output_type": "execute_result"
    }
   ],
   "source": [
    "df = pd.read_csv('satellite_data.csv')\n",
    "df.head()"
   ]
  },
  {
   "cell_type": "markdown",
   "id": "388455b7-1d5c-4e52-a964-9cc57dc24a30",
   "metadata": {},
   "source": [
    "## Classical Models"
   ]
  },
  {
   "cell_type": "markdown",
   "id": "9b6173b3-0e41-44b8-8c46-ee18159a7d83",
   "metadata": {},
   "source": [
    "### Linear SVM"
   ]
  },
  {
   "cell_type": "code",
   "execution_count": 3,
   "id": "06566587-0c02-431c-9e2b-012e8027d993",
   "metadata": {
    "execution": {
     "iopub.execute_input": "2023-11-22T02:12:47.933560Z",
     "iopub.status.busy": "2023-11-22T02:12:47.931135Z",
     "iopub.status.idle": "2023-11-22T02:12:48.276413Z",
     "shell.execute_reply": "2023-11-22T02:12:48.276059Z",
     "shell.execute_reply.started": "2023-11-22T02:12:47.933498Z"
    }
   },
   "outputs": [],
   "source": [
    "from sklearn.metrics import classification_report"
   ]
  },
  {
   "cell_type": "code",
   "execution_count": 16,
   "id": "88496707",
   "metadata": {},
   "outputs": [
    {
     "name": "stdout",
     "output_type": "stream",
     "text": [
      "CPU times: total: 1.34 s\n",
      "Wall time: 418 ms\n"
     ]
    }
   ],
   "source": [
    "%%time\n",
    "# Evaluate model using cross-validation\n",
    "kf = StratifiedKFold(n_splits=5, shuffle=True) # 5 folds\n",
    "X = df.iloc[:,:-1]\n",
    "y = df.iloc[:,-1]\n",
    "precision, recall, f1 = 0, 0, 0\n",
    "cv_y_test = []\n",
    "cv_y_pred = []\n",
    "\n",
    "for train_index, test_index in kf.split(X, y):\n",
    "    x_train = X.iloc[train_index, :]\n",
    "    y_train = y[train_index]\n",
    "    x_test = X.iloc[test_index, :]\n",
    "    y_test = y[test_index]\n",
    "    \n",
    "    clf = make_pipeline(StandardScaler(), SVC(kernel='linear'))\n",
    "    clf.fit(x_train, y_train)\n",
    "    \n",
    "    y_pred = clf.predict(x_test)\n",
    "    cv_y_test.append(y_test)\n",
    "    cv_y_pred.append(y_pred)\n",
    "    report = classification_report(y_test, y_pred, output_dict=True)\n",
    "    precision += report['macro avg']['precision']\n",
    "    recall += report['macro avg']['recall']\n",
    "    f1 += report['macro avg']['f1-score'] "
   ]
  },
  {
   "cell_type": "code",
   "execution_count": 6,
   "id": "6247a091",
   "metadata": {},
   "outputs": [
    {
     "name": "stdout",
     "output_type": "stream",
     "text": [
      "Accuracy: 0.8459031136810137\n"
     ]
    }
   ],
   "source": [
    "accuracy = (precision + recall + f1)/15\n",
    "print(f'Accuracy: {accuracy}')"
   ]
  },
  {
   "cell_type": "code",
   "execution_count": 7,
   "id": "2022bf3e",
   "metadata": {},
   "outputs": [
    {
     "name": "stdout",
     "output_type": "stream",
     "text": [
      "              precision    recall  f1-score   support\n",
      "\n",
      "         1.0       0.90      0.87      0.88       335\n",
      "         2.0       0.85      0.87      0.86       335\n",
      "         3.0       0.83      0.90      0.86       336\n",
      "         4.0       0.82      0.72      0.77       334\n",
      "         5.0       0.90      0.88      0.89       334\n",
      "         6.0       0.78      0.82      0.80       342\n",
      "\n",
      "    accuracy                           0.84      2016\n",
      "   macro avg       0.85      0.84      0.84      2016\n",
      "weighted avg       0.85      0.84      0.84      2016\n",
      "\n"
     ]
    }
   ],
   "source": [
    "print(classification_report(np.concatenate(cv_y_test), np.concatenate(cv_y_pred)))"
   ]
  },
  {
   "cell_type": "markdown",
   "id": "e4bc7f28-b7d6-4d6c-815e-410656b39cbc",
   "metadata": {},
   "source": [
    "### Radial SVM"
   ]
  },
  {
   "cell_type": "code",
   "execution_count": 10,
   "id": "86bbcbaf",
   "metadata": {},
   "outputs": [],
   "source": [
    "# Evaluate model using cross-validation\n",
    "kf = StratifiedKFold(n_splits=5, shuffle=True) # 5 folds\n",
    "X = df.iloc[:,:-1]\n",
    "y = df.iloc[:,-1]\n",
    "precision, recall, f1 = 0, 0, 0\n",
    "cv_y_test = []\n",
    "cv_y_pred = []\n",
    "\n",
    "for train_index, test_index in kf.split(X, y):\n",
    "    x_train = X.iloc[train_index, :]\n",
    "    y_train = y[train_index]\n",
    "    x_test = X.iloc[test_index, :]\n",
    "    y_test = y[test_index]\n",
    "    \n",
    "    clf = make_pipeline(StandardScaler(), SVC(kernel=\"rbf\"))\n",
    "    clf.fit(x_train, y_train)\n",
    "    \n",
    "    y_pred = clf.predict(x_test)\n",
    "    cv_y_test.append(y_test)\n",
    "    cv_y_pred.append(y_pred)\n",
    "    report = classification_report(y_test, y_pred, output_dict=True)\n",
    "    precision += report['macro avg']['precision']\n",
    "    recall += report['macro avg']['recall']\n",
    "    f1 += report['macro avg']['f1-score'] "
   ]
  },
  {
   "cell_type": "code",
   "execution_count": 11,
   "id": "3c72b89c",
   "metadata": {},
   "outputs": [
    {
     "name": "stdout",
     "output_type": "stream",
     "text": [
      "Accuracy: 0.8298456617277109\n"
     ]
    }
   ],
   "source": [
    "accuracy = (precision + recall + f1)/15\n",
    "print(f'Accuracy: {accuracy}')"
   ]
  },
  {
   "cell_type": "code",
   "execution_count": 12,
   "id": "3ebc8555",
   "metadata": {},
   "outputs": [
    {
     "name": "stdout",
     "output_type": "stream",
     "text": [
      "              precision    recall  f1-score   support\n",
      "\n",
      "         1.0       0.92      0.85      0.88       335\n",
      "         2.0       0.87      0.83      0.85       335\n",
      "         3.0       0.82      0.86      0.84       336\n",
      "         4.0       0.83      0.65      0.73       334\n",
      "         5.0       0.86      0.90      0.88       334\n",
      "         6.0       0.71      0.87      0.78       342\n",
      "\n",
      "    accuracy                           0.83      2016\n",
      "   macro avg       0.83      0.83      0.83      2016\n",
      "weighted avg       0.83      0.83      0.83      2016\n",
      "\n"
     ]
    }
   ],
   "source": [
    "print(classification_report(np.concatenate(cv_y_test), np.concatenate(cv_y_pred)))"
   ]
  },
  {
   "cell_type": "markdown",
   "id": "8c87e8ec-cbcc-4070-9ae2-84e703fe4874",
   "metadata": {},
   "source": [
    "## Multilayer Perceptron"
   ]
  },
  {
   "cell_type": "code",
   "execution_count": 13,
   "id": "8aa1064d-275f-4b29-85c4-7905b2fb95f9",
   "metadata": {
    "execution": {
     "iopub.execute_input": "2023-11-22T02:56:19.883963Z",
     "iopub.status.busy": "2023-11-22T02:56:19.883435Z",
     "iopub.status.idle": "2023-11-22T02:56:19.901732Z",
     "shell.execute_reply": "2023-11-22T02:56:19.901182Z",
     "shell.execute_reply.started": "2023-11-22T02:56:19.883929Z"
    }
   },
   "outputs": [],
   "source": [
    "from sklearn.neural_network import MLPClassifier\n",
    "from sklearn.model_selection import GridSearchCV"
   ]
  },
  {
   "cell_type": "code",
   "execution_count": 30,
   "id": "ded210ab-0ace-4209-acc3-38cf0b2021c9",
   "metadata": {
    "execution": {
     "iopub.execute_input": "2023-11-22T02:56:24.076088Z",
     "iopub.status.busy": "2023-11-22T02:56:24.075432Z",
     "iopub.status.idle": "2023-11-22T02:56:24.087146Z",
     "shell.execute_reply": "2023-11-22T02:56:24.085683Z",
     "shell.execute_reply.started": "2023-11-22T02:56:24.076051Z"
    }
   },
   "outputs": [],
   "source": [
    "parameter_space = {\n",
    "    'hidden_layer_sizes': [\n",
    "        (100,), (150,), (200,),  # Single layer\n",
    "        (100, 100), (150, 150), (200, 200),  # Two layers\n",
    "    ]\n",
    "}"
   ]
  },
  {
   "cell_type": "code",
   "execution_count": 58,
   "id": "b55ac498-955a-4f2f-98c4-448b14bb10ae",
   "metadata": {
    "execution": {
     "iopub.execute_input": "2023-11-22T02:56:51.359138Z",
     "iopub.status.busy": "2023-11-22T02:56:51.357946Z",
     "iopub.status.idle": "2023-11-22T02:56:51.369277Z",
     "shell.execute_reply": "2023-11-22T02:56:51.365506Z",
     "shell.execute_reply.started": "2023-11-22T02:56:51.359092Z"
    }
   },
   "outputs": [],
   "source": [
    "# model = make_pipeline(\n",
    "#     StandardScaler(), \n",
    "#     MLPClassifier()\n",
    "# )\n",
    "\n",
    "# mlp_gs = GridSearchCV(\n",
    "#     model,\n",
    "#     parameter_space,\n",
    "#     cv=5, # cross validation\n",
    "#     n_jobs=-1\n",
    "# )\n",
    "\n",
    "model = make_pipeline(StandardScaler(), \n",
    "    GridSearchCV(\n",
    "        MLPClassifier(),\n",
    "        param_grid=parameter_space,\n",
    "        cv=5,\n",
    "        n_jobs=-1,\n",
    "        scoring=['accuracy', 'recall_micro'],\n",
    "        refit='accuracy',\n",
    "        error_score=\"raise\"\n",
    "    )\n",
    ")"
   ]
  },
  {
   "cell_type": "code",
   "execution_count": 59,
   "id": "f89353a6-0fab-4338-ba89-d24980ceb4ff",
   "metadata": {
    "execution": {
     "iopub.execute_input": "2023-11-22T02:56:51.862194Z",
     "iopub.status.busy": "2023-11-22T02:56:51.861538Z",
     "iopub.status.idle": "2023-11-22T03:09:39.800946Z",
     "shell.execute_reply": "2023-11-22T03:09:39.798717Z",
     "shell.execute_reply.started": "2023-11-22T02:56:51.862175Z"
    },
    "scrolled": true
   },
   "outputs": [
    {
     "name": "stderr",
     "output_type": "stream",
     "text": [
      "C:\\Users\\cumpl\\miniconda3\\envs\\clustering_task\\lib\\site-packages\\sklearn\\neural_network\\_multilayer_perceptron.py:692: ConvergenceWarning: Stochastic Optimizer: Maximum iterations (200) reached and the optimization hasn't converged yet.\n",
      "  warnings.warn(\n"
     ]
    },
    {
     "data": {
      "text/plain": [
       "Pipeline(steps=[('standardscaler', StandardScaler()),\n",
       "                ('gridsearchcv',\n",
       "                 GridSearchCV(cv=5, error_score='raise',\n",
       "                              estimator=MLPClassifier(), n_jobs=-1,\n",
       "                              param_grid={'hidden_layer_sizes': [(100,), (150,),\n",
       "                                                                 (200,),\n",
       "                                                                 (100, 100),\n",
       "                                                                 (150, 150),\n",
       "                                                                 (200, 200)]},\n",
       "                              refit='accuracy',\n",
       "                              scoring=['accuracy', 'recall_micro']))])"
      ]
     },
     "execution_count": 59,
     "metadata": {},
     "output_type": "execute_result"
    }
   ],
   "source": [
    "model.fit(X, y)"
   ]
  },
  {
   "cell_type": "code",
   "execution_count": 60,
   "id": "724149eb",
   "metadata": {},
   "outputs": [
    {
     "data": {
      "text/plain": [
       "{'mean_fit_time': array([ 5.69022794,  8.31750221,  8.10585065, 11.02490587, 19.43154759,\n",
       "        20.67826428]),\n",
       " 'std_fit_time': array([0.30416291, 1.21499222, 0.90047403, 0.9795088 , 0.97382145,\n",
       "        1.07818129]),\n",
       " 'mean_score_time': array([0.00895963, 0.0186769 , 0.012672  , 0.01448112, 0.00771365,\n",
       "        0.00667758]),\n",
       " 'std_score_time': array([0.00425975, 0.01016537, 0.01140448, 0.00804032, 0.00339056,\n",
       "        0.00582299]),\n",
       " 'param_hidden_layer_sizes': masked_array(data=[(100,), (150,), (200,), (100, 100), (150, 150),\n",
       "                    (200, 200)],\n",
       "              mask=[False, False, False, False, False, False],\n",
       "        fill_value='?',\n",
       "             dtype=object),\n",
       " 'params': [{'hidden_layer_sizes': (100,)},\n",
       "  {'hidden_layer_sizes': (150,)},\n",
       "  {'hidden_layer_sizes': (200,)},\n",
       "  {'hidden_layer_sizes': (100, 100)},\n",
       "  {'hidden_layer_sizes': (150, 150)},\n",
       "  {'hidden_layer_sizes': (200, 200)}],\n",
       " 'split0_test_accuracy': array([0.87871287, 0.87871287, 0.88366337, 0.86881188, 0.88613861,\n",
       "        0.89108911]),\n",
       " 'split1_test_accuracy': array([0.84119107, 0.84863524, 0.85359801, 0.82133995, 0.85111663,\n",
       "        0.84119107]),\n",
       " 'split2_test_accuracy': array([0.81885856, 0.85359801, 0.84367246, 0.84863524, 0.8560794 ,\n",
       "        0.84119107]),\n",
       " 'split3_test_accuracy': array([0.84615385, 0.85359801, 0.86352357, 0.83126551, 0.84367246,\n",
       "        0.84863524]),\n",
       " 'split4_test_accuracy': array([0.84863524, 0.84615385, 0.86104218, 0.87344913, 0.85856079,\n",
       "        0.86600496]),\n",
       " 'mean_test_accuracy': array([0.84671032, 0.8561396 , 0.86109992, 0.84870034, 0.85911358,\n",
       "        0.85762229]),\n",
       " 'std_test_accuracy': array([0.01915391, 0.01164906, 0.01322862, 0.02034475, 0.01443775,\n",
       "        0.01903173]),\n",
       " 'rank_test_accuracy': array([6, 4, 1, 5, 2, 3]),\n",
       " 'split0_test_recall_micro': array([0.87871287, 0.87871287, 0.88366337, 0.86881188, 0.88613861,\n",
       "        0.89108911]),\n",
       " 'split1_test_recall_micro': array([0.84119107, 0.84863524, 0.85359801, 0.82133995, 0.85111663,\n",
       "        0.84119107]),\n",
       " 'split2_test_recall_micro': array([0.81885856, 0.85359801, 0.84367246, 0.84863524, 0.8560794 ,\n",
       "        0.84119107]),\n",
       " 'split3_test_recall_micro': array([0.84615385, 0.85359801, 0.86352357, 0.83126551, 0.84367246,\n",
       "        0.84863524]),\n",
       " 'split4_test_recall_micro': array([0.84863524, 0.84615385, 0.86104218, 0.87344913, 0.85856079,\n",
       "        0.86600496]),\n",
       " 'mean_test_recall_micro': array([0.84671032, 0.8561396 , 0.86109992, 0.84870034, 0.85911358,\n",
       "        0.85762229]),\n",
       " 'std_test_recall_micro': array([0.01915391, 0.01164906, 0.01322862, 0.02034475, 0.01443775,\n",
       "        0.01903173]),\n",
       " 'rank_test_recall_micro': array([6, 4, 1, 5, 2, 3])}"
      ]
     },
     "execution_count": 60,
     "metadata": {},
     "output_type": "execute_result"
    }
   ],
   "source": [
    "model.named_steps['gridsearchcv'].cv_results_"
   ]
  },
  {
   "cell_type": "code",
   "execution_count": 61,
   "id": "8f459b51",
   "metadata": {},
   "outputs": [
    {
     "data": {
      "text/plain": [
       "{'hidden_layer_sizes': (200,)}"
      ]
     },
     "execution_count": 61,
     "metadata": {},
     "output_type": "execute_result"
    }
   ],
   "source": [
    "model.named_steps['gridsearchcv'].best_params_"
   ]
  },
  {
   "cell_type": "code",
   "execution_count": 62,
   "id": "17b16e45",
   "metadata": {},
   "outputs": [
    {
     "data": {
      "text/plain": [
       "0.861099918924895"
      ]
     },
     "execution_count": 62,
     "metadata": {},
     "output_type": "execute_result"
    }
   ],
   "source": [
    "model.named_steps['gridsearchcv'].best_score_"
   ]
  },
  {
   "cell_type": "code",
   "execution_count": 18,
   "id": "70b79cef",
   "metadata": {},
   "outputs": [],
   "source": [
    "data = pd.DataFrame({\n",
    "    'Model': [\"CNN\", \"MLP\"] * 3,\n",
    "    'Score': [0.86, 0.86, 0.965, 0.971, 0.89, 0.90],\n",
    "    'Dataset': [\"Satellite Images\"] * 2 +  [\"White Blood Cells\"] * 2 + [\"Fashion MNIST\"] * 2 \n",
    "})"
   ]
  },
  {
   "cell_type": "code",
   "execution_count": 19,
   "id": "e296f187",
   "metadata": {},
   "outputs": [],
   "source": [
    "import matplotlib.pyplot as plt\n",
    "import seaborn as sns"
   ]
  },
  {
   "cell_type": "code",
   "execution_count": 20,
   "id": "f6f3366f",
   "metadata": {},
   "outputs": [],
   "source": [
    "sns.set(style=\"whitegrid\")"
   ]
  },
  {
   "cell_type": "code",
   "execution_count": 21,
   "id": "a444eeb0",
   "metadata": {},
   "outputs": [
    {
     "data": {
      "text/plain": [
       "<AxesSubplot:xlabel='Dataset', ylabel='Score'>"
      ]
     },
     "execution_count": 21,
     "metadata": {},
     "output_type": "execute_result"
    },
    {
     "data": {
      "image/png": "[encoded data removed]",
      "text/plain": [
       "<Figure size 1000x700 with 1 Axes>"
      ]
     },
     "metadata": {},
     "output_type": "display_data"
    }
   ],
   "source": [
    "fig = plt.figure(figsize=(10,7))\n",
    "ax = fig.add_subplot(111)\n",
    "sns.barplot(x = 'Dataset', y='Score', data=data, hue='Model', ax=ax)"
   ]
  },
  {
   "cell_type": "code",
   "execution_count": 23,
   "id": "5abfe085",
   "metadata": {},
   "outputs": [],
   "source": [
    "fig.savefig('comparison_CNN.png')"
   ]
  }
 ],
 "metadata": {
  "kernelspec": {
   "display_name": "Python 3 (ipykernel)",
   "language": "python",
   "name": "python3"
  },
  "language_info": {
   "codemirror_mode": {
    "name": "ipython",
    "version": 3
   },
   "file_extension": ".py",
   "mimetype": "text/x-python",
   "name": "python",
   "nbconvert_exporter": "python",
   "pygments_lexer": "ipython3",
   "version": "3.10.9"
  }
 },
 "nbformat": 4,
 "nbformat_minor": 5
}
